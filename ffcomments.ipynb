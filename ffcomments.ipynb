{
  "nbformat": 4,
  "nbformat_minor": 0,
  "metadata": {
    "colab": {
      "provenance": [],
      "authorship_tag": "ABX9TyMAw8rUP1oKuvJwOCjbdE2y",
      "include_colab_link": true
    },
    "kernelspec": {
      "name": "python3",
      "display_name": "Python 3"
    },
    "language_info": {
      "name": "python"
    }
  },
  "cells": [
    {
      "cell_type": "markdown",
      "metadata": {
        "id": "view-in-github",
        "colab_type": "text"
      },
      "source": [
        "<a href=\"https://colab.research.google.com/github/bit013/2309project/blob/master/ffcomments.ipynb\" target=\"_parent\"><img src=\"https://colab.research.google.com/assets/colab-badge.svg\" alt=\"Open In Colab\"/></a>"
      ]
    },
    {
      "cell_type": "code",
      "execution_count": 2,
      "metadata": {
        "id": "HwvnIa4Sb27k"
      },
      "outputs": [],
      "source": [
        "from keras.datasets import imdb\n"
      ]
    },
    {
      "cell_type": "code",
      "source": [
        "#train_data[2]"
      ],
      "metadata": {
        "id": "7Jtt36CldJhV"
      },
      "execution_count": 3,
      "outputs": []
    },
    {
      "cell_type": "code",
      "source": [
        "(train_data, train_labels), (test_data, test_labels) = imdb.load_data(num_words=10000)"
      ],
      "metadata": {
        "colab": {
          "base_uri": "https://localhost:8080/"
        },
        "id": "sDu7hgiFcRRd",
        "outputId": "8aae6c91-d287-4d1a-ac7a-65655eacc634"
      },
      "execution_count": 4,
      "outputs": [
        {
          "output_type": "stream",
          "name": "stdout",
          "text": [
            "Downloading data from https://storage.googleapis.com/tensorflow/tf-keras-datasets/imdb.npz\n",
            "17464789/17464789 [==============================] - 0s 0us/step\n"
          ]
        }
      ]
    },
    {
      "cell_type": "code",
      "source": [
        "import numpy as np\n",
        "def vectorize(sequences, dimension=10000):\n",
        "  results = np.zeros((len(sequences),dimension))\n",
        "  for i, sequence in enumerate(sequences):\n",
        "    results[i,sequence] = 1\n",
        "  return results\n",
        "  \n",
        "x_train = vectorize(train_data)\n",
        "x_test = vectorize(test_data)"
      ],
      "metadata": {
        "id": "jBAui5ncd4T3"
      },
      "execution_count": 5,
      "outputs": []
    },
    {
      "cell_type": "code",
      "source": [
        "x_train[2]\n"
      ],
      "metadata": {
        "colab": {
          "base_uri": "https://localhost:8080/"
        },
        "id": "4FaWI45Ohoqa",
        "outputId": "7c373ec1-13bf-4ba9-cc29-a56040439523"
      },
      "execution_count": 6,
      "outputs": [
        {
          "output_type": "execute_result",
          "data": {
            "text/plain": [
              "array([0., 1., 1., ..., 0., 0., 0.])"
            ]
          },
          "metadata": {},
          "execution_count": 6
        }
      ]
    },
    {
      "cell_type": "code",
      "source": [
        "y_train = np.asarray(train_labels).astype('float32')\n",
        "y_test = np.asarray(train_labels).astype('float32')"
      ],
      "metadata": {
        "id": "44RU8r0Fm-Dp"
      },
      "execution_count": 7,
      "outputs": []
    },
    {
      "cell_type": "code",
      "source": [
        "# train_data[2]"
      ],
      "metadata": {
        "id": "59oSdICyh8-o"
      },
      "execution_count": null,
      "outputs": []
    },
    {
      "cell_type": "code",
      "source": [
        "word_index = imdb.get_word_index()"
      ],
      "metadata": {
        "id": "ChkQ9d3RiQ5C",
        "colab": {
          "base_uri": "https://localhost:8080/"
        },
        "outputId": "7955aa13-512a-4794-a4d6-78e1ffe620bd"
      },
      "execution_count": 8,
      "outputs": [
        {
          "output_type": "stream",
          "name": "stdout",
          "text": [
            "Downloading data from https://storage.googleapis.com/tensorflow/tf-keras-datasets/imdb_word_index.json\n",
            "1641221/1641221 [==============================] - 0s 0us/step\n"
          ]
        }
      ]
    },
    {
      "cell_type": "code",
      "source": [
        "# word_index"
      ],
      "metadata": {
        "id": "bXIK7dISi9BY"
      },
      "execution_count": null,
      "outputs": []
    },
    {
      "cell_type": "code",
      "source": [
        "revers_word_index = dict([(value, key)for (key,value) in word_index.items()])"
      ],
      "metadata": {
        "id": "wsNxGBgtjBt3"
      },
      "execution_count": 9,
      "outputs": []
    },
    {
      "cell_type": "code",
      "source": [
        "# revers_word_index"
      ],
      "metadata": {
        "id": "sdBVCReEkNgW"
      },
      "execution_count": null,
      "outputs": []
    },
    {
      "cell_type": "code",
      "source": [
        "descoded_review = \" \".join([revers_word_index.get(i-3, \" \")for i in train_data[2]])"
      ],
      "metadata": {
        "id": "85hnFy5ikPNE"
      },
      "execution_count": 17,
      "outputs": []
    },
    {
      "cell_type": "code",
      "source": [
        "descoded_review"
      ],
      "metadata": {
        "colab": {
          "base_uri": "https://localhost:8080/",
          "height": 88
        },
        "id": "c7BBHSHilsLT",
        "outputId": "09396f59-f88e-4251-9e09-c3f2b844257f"
      },
      "execution_count": 18,
      "outputs": [
        {
          "output_type": "execute_result",
          "data": {
            "text/plain": [
              "\"  this has to be one of the worst films of the 1990s when my friends i were watching this film being the target audience it was aimed at we just sat watched the first half an hour with our jaws touching the floor at how bad it really was the rest of the time everyone else in the theatre just started talking to each other leaving or generally crying into their popcorn that they actually paid money they had   working to watch this feeble excuse for a film it must have looked like a great idea on paper but on film it looks like no one in the film has a clue what is going on crap acting crap costumes i can't get across how   this is to watch save yourself an hour a bit of your life\""
            ],
            "application/vnd.google.colaboratory.intrinsic+json": {
              "type": "string"
            }
          },
          "metadata": {},
          "execution_count": 18
        }
      ]
    },
    {
      "cell_type": "code",
      "source": [
        "from keras import models\n",
        "from keras import layers\n",
        "model = models.Sequential() #создание модели\n",
        "model.add(layers.Dense(16, activation = \"relu\", input_shape=(10000,)))#в модель добавляется 16 нейронов relu-преобразование что меньше 0 = 0 если больше 0 y=x в input_shape-количество слов\n",
        "model.add(layers.Dense(16, activation = \"relu\"))\n",
        "model.add(layers.Dense(1, activation = \"sigmoid\")) #переводит числа от нуля до единицы синус"
      ],
      "metadata": {
        "id": "YJGLMlTPl0Kn"
      },
      "execution_count": 12,
      "outputs": []
    },
    {
      "cell_type": "code",
      "source": [
        "asd = [1, 307, 5, 1301, 20, 1026, 2511, 87, 2775, 52, 116, 5, 31, 7, 4, 91, 1220, 102, 13, 28, 110, 11, 6, 137, 13, 115, 219, 141, 35, 221, 956, 54, 13, 16, 11, 2714, 61, 322, 423, 12, 38, 76, 59, 1803, 72, 8, 2, 23, 5, 967, 12, 38, 85, 62, 358, 99 ]"
      ],
      "metadata": {
        "id": "F76zxV2UijA7"
      },
      "execution_count": 13,
      "outputs": []
    },
    {
      "cell_type": "code",
      "source": [
        "descoded_review = \" \".join([revers_word_index.get(i-3, \" \")for i in asd])"
      ],
      "metadata": {
        "id": "Bmnrr_ZkiYGV"
      },
      "execution_count": 14,
      "outputs": []
    },
    {
      "cell_type": "code",
      "source": [
        "print(descoded_review)"
      ],
      "metadata": {
        "colab": {
          "base_uri": "https://localhost:8080/"
        },
        "id": "FnAjbL0sjmQu",
        "outputId": "66a2e062-2cbe-4170-e78a-a314c76273db"
      },
      "execution_count": 16,
      "outputs": [
        {
          "output_type": "stream",
          "name": "stdout",
          "text": [
            "  beautiful and touching movie rich colors great settings good acting and one of the most charming movies i have seen in a while i never saw such an interesting setting when i was in china my wife liked it so much she asked me to   on and rate it so other would enjoy too\n"
          ]
        }
      ]
    },
    {
      "cell_type": "code",
      "source": [
        "model.compile(optimizer = 'rmsprop',\n",
        "              loss = 'binary_crossentropy',\n",
        "              metrics=['accuracy'])#компиляция модели по параметрам: оптимизатор, функция потерь, метрика,optimizer - метод достижения лучших результатов, потери - насколько она точно предугадала и регулируется оптимизатором, метрика показывает правильно расставленных метаклассов"
      ],
      "metadata": {
        "id": "OBdsw2sSg0Wz"
      },
      "execution_count": 29,
      "outputs": []
    },
    {
      "cell_type": "code",
      "source": [
        "x_val = x_train[10000:] #cохраняем первые 10к коментов и положительные или отриц  отзыв\n",
        "y_val= y_train[10000:]\n",
        "x_valid = x_train[:10000]\n",
        "y_valid = y_train[:10000]"
      ],
      "metadata": {
        "id": "bsugAZQhhVns"
      },
      "execution_count": 30,
      "outputs": []
    },
    {
      "cell_type": "code",
      "source": [
        "history = model.fit(x_val, \n",
        "                    y_val,\n",
        "                    epochs=20,\n",
        "                    batch_size=512,\n",
        "                    validation_data=(x_valid, y_valid) \n",
        "                    ) #epoch - полный цикл модели, 512 - отзывов рандомных, valid-определение насколько успешно построена модель"
      ],
      "metadata": {
        "colab": {
          "base_uri": "https://localhost:8080/"
        },
        "id": "QIQkwVEwjwwU",
        "outputId": "40250e1d-4b09-4320-9613-50635f81e17f"
      },
      "execution_count": 31,
      "outputs": [
        {
          "output_type": "stream",
          "name": "stdout",
          "text": [
            "Epoch 1/20\n",
            "30/30 [==============================] - 5s 127ms/step - loss: 0.5154 - accuracy: 0.7782 - val_loss: 0.4255 - val_accuracy: 0.8310\n",
            "Epoch 2/20\n",
            "30/30 [==============================] - 2s 50ms/step - loss: 0.3059 - accuracy: 0.9015 - val_loss: 0.3002 - val_accuracy: 0.8875\n",
            "Epoch 3/20\n",
            "30/30 [==============================] - 1s 49ms/step - loss: 0.2243 - accuracy: 0.9257 - val_loss: 0.2777 - val_accuracy: 0.8900\n",
            "Epoch 4/20\n",
            "30/30 [==============================] - 1s 44ms/step - loss: 0.1759 - accuracy: 0.9427 - val_loss: 0.2871 - val_accuracy: 0.8854\n",
            "Epoch 5/20\n",
            "30/30 [==============================] - 1s 47ms/step - loss: 0.1427 - accuracy: 0.9558 - val_loss: 0.3263 - val_accuracy: 0.8734\n",
            "Epoch 6/20\n",
            "30/30 [==============================] - 1s 39ms/step - loss: 0.1191 - accuracy: 0.9633 - val_loss: 0.2937 - val_accuracy: 0.8842\n",
            "Epoch 7/20\n",
            "30/30 [==============================] - 1s 43ms/step - loss: 0.1001 - accuracy: 0.9700 - val_loss: 0.3144 - val_accuracy: 0.8849\n",
            "Epoch 8/20\n",
            "30/30 [==============================] - 1s 44ms/step - loss: 0.0778 - accuracy: 0.9787 - val_loss: 0.3796 - val_accuracy: 0.8712\n",
            "Epoch 9/20\n",
            "30/30 [==============================] - 1s 39ms/step - loss: 0.0675 - accuracy: 0.9814 - val_loss: 0.3519 - val_accuracy: 0.8793\n",
            "Epoch 10/20\n",
            "30/30 [==============================] - 1s 47ms/step - loss: 0.0554 - accuracy: 0.9860 - val_loss: 0.3768 - val_accuracy: 0.8776\n",
            "Epoch 11/20\n",
            "30/30 [==============================] - 1s 43ms/step - loss: 0.0463 - accuracy: 0.9889 - val_loss: 0.4092 - val_accuracy: 0.8758\n",
            "Epoch 12/20\n",
            "30/30 [==============================] - 1s 50ms/step - loss: 0.0381 - accuracy: 0.9912 - val_loss: 0.4586 - val_accuracy: 0.8733\n",
            "Epoch 13/20\n",
            "30/30 [==============================] - 1s 47ms/step - loss: 0.0298 - accuracy: 0.9942 - val_loss: 0.4785 - val_accuracy: 0.8687\n",
            "Epoch 14/20\n",
            "30/30 [==============================] - 1s 44ms/step - loss: 0.0248 - accuracy: 0.9953 - val_loss: 0.5269 - val_accuracy: 0.8670\n",
            "Epoch 15/20\n",
            "30/30 [==============================] - 1s 50ms/step - loss: 0.0194 - accuracy: 0.9974 - val_loss: 0.5327 - val_accuracy: 0.8683\n",
            "Epoch 16/20\n",
            "30/30 [==============================] - 1s 49ms/step - loss: 0.0161 - accuracy: 0.9982 - val_loss: 0.5626 - val_accuracy: 0.8704\n",
            "Epoch 17/20\n",
            "30/30 [==============================] - 2s 51ms/step - loss: 0.0153 - accuracy: 0.9961 - val_loss: 0.5978 - val_accuracy: 0.8701\n",
            "Epoch 18/20\n",
            "30/30 [==============================] - 1s 50ms/step - loss: 0.0070 - accuracy: 0.9999 - val_loss: 0.6285 - val_accuracy: 0.8675\n",
            "Epoch 19/20\n",
            "30/30 [==============================] - 1s 49ms/step - loss: 0.0098 - accuracy: 0.9980 - val_loss: 0.6621 - val_accuracy: 0.8663\n",
            "Epoch 20/20\n",
            "30/30 [==============================] - 1s 48ms/step - loss: 0.0064 - accuracy: 0.9995 - val_loss: 0.7055 - val_accuracy: 0.8629\n"
          ]
        }
      ]
    },
    {
      "cell_type": "code",
      "source": [
        "history_d = history.history\n",
        "#название модели и переменная\n"
      ],
      "metadata": {
        "id": "Ak809SwMpOvN"
      },
      "execution_count": 32,
      "outputs": []
    },
    {
      "cell_type": "code",
      "source": [
        "history_d.keys()"
      ],
      "metadata": {
        "id": "73WLzJPJqSsk"
      },
      "execution_count": null,
      "outputs": []
    },
    {
      "cell_type": "code",
      "source": [
        "import matplotlib.pyplot as plt\n",
        "loss_values = history_d[\"loss\"]\n",
        "val_loss_values = history_d[\"val_loss\"]\n",
        "epochs = range(1,len(history_d[\"accuracy\"])+1)\n",
        "plt.plot(epochs, loss_values, 'bo', label=)\n"
      ],
      "metadata": {
        "id": "Bj8EC-p1qcWM"
      },
      "execution_count": 33,
      "outputs": []
    }
  ]
}