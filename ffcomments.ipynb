{
  "cells": [
    {
      "cell_type": "markdown",
      "metadata": {
        "id": "view-in-github",
        "colab_type": "text"
      },
      "source": [
        "<a href=\"https://colab.research.google.com/github/bit013/2309project/blob/master/ffcomments.ipynb\" target=\"_parent\"><img src=\"https://colab.research.google.com/assets/colab-badge.svg\" alt=\"Open In Colab\"/></a>"
      ]
    },
    {
      "cell_type": "code",
      "execution_count": null,
      "metadata": {
        "id": "HwvnIa4Sb27k"
      },
      "outputs": [],
      "source": [
        "from keras.datasets import imdb\n"
      ]
    },
    {
      "cell_type": "code",
      "execution_count": null,
      "metadata": {
        "id": "7Jtt36CldJhV"
      },
      "outputs": [],
      "source": [
        "#train_data[2]"
      ]
    },
    {
      "cell_type": "code",
      "execution_count": null,
      "metadata": {
        "id": "sDu7hgiFcRRd"
      },
      "outputs": [],
      "source": [
        "(train_data, train_labels), (test_data, test_labels) = imdb.load_data(num_words=10000)"
      ]
    },
    {
      "cell_type": "code",
      "execution_count": null,
      "metadata": {
        "id": "jBAui5ncd4T3"
      },
      "outputs": [],
      "source": [
        "import numpy as np\n",
        "def vectorize(sequences, dimension=10000):\n",
        "  results = np.zeros((len(sequences),dimension))\n",
        "  for i, sequence in enumerate(sequences):\n",
        "    results[i,sequence] = 1\n",
        "  return results\n",
        "  \n",
        "x_train = vectorize(train_data)\n",
        "x_test = vectorize(test_data)"
      ]
    },
    {
      "cell_type": "code",
      "execution_count": null,
      "metadata": {
        "colab": {
          "base_uri": "https://localhost:8080/"
        },
        "id": "4FaWI45Ohoqa",
        "outputId": "9345dffb-d43d-456c-ce74-ef9c684ecedc"
      },
      "outputs": [
        {
          "output_type": "execute_result",
          "data": {
            "text/plain": [
              "array([0., 1., 1., ..., 0., 0., 0.])"
            ]
          },
          "metadata": {},
          "execution_count": 35
        }
      ],
      "source": [
        "x_train[2]\n"
      ]
    },
    {
      "cell_type": "code",
      "execution_count": null,
      "metadata": {
        "id": "44RU8r0Fm-Dp"
      },
      "outputs": [],
      "source": [
        "y_train = np.asarray(train_labels).astype('float32')\n",
        "y_test = np.asarray(train_labels).astype('float32')"
      ]
    },
    {
      "cell_type": "code",
      "execution_count": null,
      "metadata": {
        "id": "59oSdICyh8-o"
      },
      "outputs": [],
      "source": [
        "# train_data[2]"
      ]
    },
    {
      "cell_type": "code",
      "execution_count": null,
      "metadata": {
        "id": "ChkQ9d3RiQ5C"
      },
      "outputs": [],
      "source": [
        "word_index = imdb.get_word_index()"
      ]
    },
    {
      "cell_type": "code",
      "execution_count": null,
      "metadata": {
        "id": "bXIK7dISi9BY"
      },
      "outputs": [],
      "source": [
        "# word_index"
      ]
    },
    {
      "cell_type": "code",
      "execution_count": null,
      "metadata": {
        "id": "wsNxGBgtjBt3"
      },
      "outputs": [],
      "source": [
        "revers_word_index = dict([(value, key)for (key,value) in word_index.items()])"
      ]
    },
    {
      "cell_type": "code",
      "execution_count": null,
      "metadata": {
        "id": "sdBVCReEkNgW"
      },
      "outputs": [],
      "source": [
        "# revers_word_index"
      ]
    },
    {
      "cell_type": "code",
      "execution_count": null,
      "metadata": {
        "id": "85hnFy5ikPNE"
      },
      "outputs": [],
      "source": [
        "descoded_review = \" \".join([revers_word_index.get(i-3, \" \")for i in train_data[2]])"
      ]
    },
    {
      "cell_type": "code",
      "execution_count": null,
      "metadata": {
        "colab": {
          "base_uri": "https://localhost:8080/",
          "height": 88
        },
        "id": "c7BBHSHilsLT",
        "outputId": "224e64be-2223-44f0-d7ca-220f2e450e9f"
      },
      "outputs": [
        {
          "output_type": "execute_result",
          "data": {
            "text/plain": [
              "\"  this has to be one of the worst films of the 1990s when my friends i were watching this film being the target audience it was aimed at we just sat watched the first half an hour with our jaws touching the floor at how bad it really was the rest of the time everyone else in the theatre just started talking to each other leaving or generally crying into their popcorn that they actually paid money they had   working to watch this feeble excuse for a film it must have looked like a great idea on paper but on film it looks like no one in the film has a clue what is going on crap acting crap costumes i can't get across how   this is to watch save yourself an hour a bit of your life\""
            ],
            "application/vnd.google.colaboratory.intrinsic+json": {
              "type": "string"
            }
          },
          "metadata": {},
          "execution_count": 40
        }
      ],
      "source": [
        "descoded_review"
      ]
    },
    {
      "cell_type": "code",
      "execution_count": null,
      "metadata": {
        "id": "YJGLMlTPl0Kn"
      },
      "outputs": [],
      "source": [
        "from keras import models\n",
        "from keras import layers\n",
        "model = models.Sequential() #создание модели\n",
        "model.add(layers.Dense(16, activation = \"tanh\", input_shape=(10000,)))#в модель добавляется 16 нейронов relu-преобразование что меньше 0 = 0 если больше 0 y=x в input_shape-количество слов\n",
        "model.add(layers.Dense(16, activation = \"tanh\"))\n",
        "model.add(layers.Dense(1, activation = \"sigmoid\")) #переводит числа от нуля до единицы синус"
      ]
    },
    {
      "cell_type": "code",
      "execution_count": null,
      "metadata": {
        "id": "F76zxV2UijA7"
      },
      "outputs": [],
      "source": [
        "asd = [1, 307, 5, 1301, 20, 1026, 2511, 87, 2775, 52, 116, 5, 31, 7, 4, 91, 1220, 102, 13, 28, 110, 11, 6, 137, 13, 115, 219, 141, 35, 221, 956, 54, 13, 16, 11, 2714, 61, 322, 423, 12, 38, 76, 59, 1803, 72, 8, 2, 23, 5, 967, 12, 38, 85, 62, 358, 99 ]"
      ]
    },
    {
      "cell_type": "code",
      "execution_count": null,
      "metadata": {
        "id": "Bmnrr_ZkiYGV"
      },
      "outputs": [],
      "source": [
        "descoded_review = \" \".join([revers_word_index.get(i-3, \" \")for i in asd])"
      ]
    },
    {
      "cell_type": "code",
      "execution_count": null,
      "metadata": {
        "colab": {
          "base_uri": "https://localhost:8080/"
        },
        "id": "FnAjbL0sjmQu",
        "outputId": "70dd8d84-5644-4e8a-d067-55c915e43dd3"
      },
      "outputs": [
        {
          "name": "stdout",
          "output_type": "stream",
          "text": [
            "  beautiful and touching movie rich colors great settings good acting and one of the most charming movies i have seen in a while i never saw such an interesting setting when i was in china my wife liked it so much she asked me to   on and rate it so other would enjoy too\n"
          ]
        }
      ],
      "source": [
        "print(descoded_review)"
      ]
    },
    {
      "cell_type": "code",
      "execution_count": null,
      "metadata": {
        "id": "OBdsw2sSg0Wz"
      },
      "outputs": [],
      "source": [
        "model.compile(optimizer = 'rmsprop',\n",
        "              loss = 'mse',\n",
        "              metrics=['accuracy'])#компиляция модели по параметрам: оптимизатор, функция потерь, метрика,optimizer - метод достижения лучших результатов, потери - насколько она точно предугадала и регулируется оптимизатором, метрика показывает правильно расставленных метаклассов"
      ]
    },
    {
      "cell_type": "code",
      "execution_count": null,
      "metadata": {
        "id": "bsugAZQhhVns"
      },
      "outputs": [],
      "source": [
        "x_val = x_train[10000:] #cохраняем первые 10к коментов для обучения       положительные или отриц  отзыв для валидации\n",
        "y_val= y_train[10000:]\n",
        "x_valid = x_train[:10000]\n",
        "y_valid = y_train[:10000]"
      ]
    },
    {
      "cell_type": "code",
      "execution_count": null,
      "metadata": {
        "colab": {
          "base_uri": "https://localhost:8080/"
        },
        "id": "QIQkwVEwjwwU",
        "outputId": "35fe1914-b80e-491f-fe42-9bd87163271f"
      },
      "outputs": [
        {
          "output_type": "stream",
          "name": "stdout",
          "text": [
            "Epoch 1/20\n",
            "30/30 [==============================] - 3s 91ms/step - loss: 0.1578 - accuracy: 0.7840 - val_loss: 0.1193 - val_accuracy: 0.8459\n",
            "Epoch 2/20\n",
            "30/30 [==============================] - 3s 104ms/step - loss: 0.0801 - accuracy: 0.9077 - val_loss: 0.0951 - val_accuracy: 0.8707\n",
            "Epoch 3/20\n",
            "30/30 [==============================] - 3s 102ms/step - loss: 0.0548 - accuracy: 0.9381 - val_loss: 0.0948 - val_accuracy: 0.8699\n",
            "Epoch 4/20\n",
            "30/30 [==============================] - 2s 73ms/step - loss: 0.0406 - accuracy: 0.9523 - val_loss: 0.0856 - val_accuracy: 0.8828\n",
            "Epoch 5/20\n",
            "30/30 [==============================] - 2s 65ms/step - loss: 0.0314 - accuracy: 0.9635 - val_loss: 0.0881 - val_accuracy: 0.8817\n",
            "Epoch 6/20\n",
            "30/30 [==============================] - 2s 65ms/step - loss: 0.0256 - accuracy: 0.9707 - val_loss: 0.0975 - val_accuracy: 0.8717\n",
            "Epoch 7/20\n",
            "30/30 [==============================] - 2s 65ms/step - loss: 0.0193 - accuracy: 0.9785 - val_loss: 0.1105 - val_accuracy: 0.8602\n",
            "Epoch 8/20\n",
            "30/30 [==============================] - 2s 80ms/step - loss: 0.0165 - accuracy: 0.9815 - val_loss: 0.1009 - val_accuracy: 0.8752\n",
            "Epoch 9/20\n",
            "30/30 [==============================] - 2s 65ms/step - loss: 0.0140 - accuracy: 0.9850 - val_loss: 0.1031 - val_accuracy: 0.8758\n",
            "Epoch 10/20\n",
            "30/30 [==============================] - 2s 65ms/step - loss: 0.0135 - accuracy: 0.9849 - val_loss: 0.1072 - val_accuracy: 0.8711\n",
            "Epoch 11/20\n",
            "30/30 [==============================] - 2s 67ms/step - loss: 0.0067 - accuracy: 0.9939 - val_loss: 0.1118 - val_accuracy: 0.8686\n",
            "Epoch 12/20\n",
            "30/30 [==============================] - 2s 69ms/step - loss: 0.0096 - accuracy: 0.9897 - val_loss: 0.1168 - val_accuracy: 0.8650\n",
            "Epoch 13/20\n",
            "30/30 [==============================] - 2s 68ms/step - loss: 0.0099 - accuracy: 0.9890 - val_loss: 0.1142 - val_accuracy: 0.8669\n",
            "Epoch 14/20\n",
            "30/30 [==============================] - 2s 62ms/step - loss: 0.0051 - accuracy: 0.9951 - val_loss: 0.1150 - val_accuracy: 0.8668\n",
            "Epoch 15/20\n",
            "30/30 [==============================] - 2s 64ms/step - loss: 0.0105 - accuracy: 0.9880 - val_loss: 0.1157 - val_accuracy: 0.8666\n",
            "Epoch 16/20\n",
            "30/30 [==============================] - 2s 63ms/step - loss: 0.0046 - accuracy: 0.9955 - val_loss: 0.1159 - val_accuracy: 0.8677\n",
            "Epoch 17/20\n",
            "30/30 [==============================] - 2s 52ms/step - loss: 0.0083 - accuracy: 0.9906 - val_loss: 0.1173 - val_accuracy: 0.8671\n",
            "Epoch 18/20\n",
            "30/30 [==============================] - 2s 74ms/step - loss: 0.0042 - accuracy: 0.9958 - val_loss: 0.1187 - val_accuracy: 0.8645\n",
            "Epoch 19/20\n",
            "30/30 [==============================] - 2s 77ms/step - loss: 0.0073 - accuracy: 0.9919 - val_loss: 0.1187 - val_accuracy: 0.8659\n",
            "Epoch 20/20\n",
            "30/30 [==============================] - 2s 79ms/step - loss: 0.0040 - accuracy: 0.9961 - val_loss: 0.1196 - val_accuracy: 0.8648\n"
          ]
        }
      ],
      "source": [
        "history = model.fit(x_val, \n",
        "                    y_val,\n",
        "                    epochs=20,\n",
        "                    batch_size=512,\n",
        "                    validation_data=(x_valid, y_valid) \n",
        "                    ) #epoch - полный цикл модели, 512 - отзывов рандомных, valid-определение насколько успешно построена модель"
      ]
    },
    {
      "cell_type": "code",
      "execution_count": null,
      "metadata": {
        "id": "Ak809SwMpOvN"
      },
      "outputs": [],
      "source": [
        "history_d = history.history\n",
        "#название модели и переменная\n"
      ]
    },
    {
      "cell_type": "code",
      "execution_count": null,
      "metadata": {
        "colab": {
          "base_uri": "https://localhost:8080/"
        },
        "id": "73WLzJPJqSsk",
        "outputId": "0f2f8c35-fe16-46a3-c875-1740772259f9"
      },
      "outputs": [
        {
          "output_type": "execute_result",
          "data": {
            "text/plain": [
              "dict_keys(['loss', 'accuracy', 'val_loss', 'val_accuracy'])"
            ]
          },
          "metadata": {},
          "execution_count": 46
        }
      ],
      "source": [
        "history_d.keys()"
      ]
    },
    {
      "cell_type": "code",
      "execution_count": null,
      "metadata": {
        "colab": {
          "base_uri": "https://localhost:8080/",
          "height": 295
        },
        "id": "Bj8EC-p1qcWM",
        "outputId": "48b4d5b9-7f09-402e-8431-88cdd4d9139d"
      },
      "outputs": [
        {
          "output_type": "display_data",
          "data": {
            "text/plain": [
              "<Figure size 432x288 with 1 Axes>"
            ],
            "image/png": "[encoded data removed]"
          },
          "metadata": {
            "needs_background": "light"
          }
        }
      ],
      "source": [
        "import matplotlib.pyplot as plt\n",
        "loss_values = history_d[\"loss\"]\n",
        "val_loss_values = history_d[\"val_loss\"]\n",
        "epochs = range(1,len(history_d[\"accuracy\"])+1)\n",
        "plt.plot(epochs, loss_values, 'b', label=\"Training loss\") #потери\n",
        "plt.plot(epochs, val_loss_values, 'r', label=\"Validance loss\") #точность\n",
        "plt.title(\"Training and Vlidance loss\")\n",
        "plt.xlabel(\"epochs\")\n",
        "plt.ylabel(\"loss\")\n",
        "plt.legend()\n",
        "plt.show()"
      ]
    },
    {
      "cell_type": "code",
      "source": [
        "import matplotlib.pyplot as plt\n",
        "loss_values = history_d[\"accuracy\"]\n",
        "val_loss_values = history_d[\"val_accuracy\"]\n",
        "epochs = range(1,len(history_d[\"accuracy\"])+1)\n",
        "plt.plot(epochs, loss_values, 'b', label=\"Training loss\")\n",
        "plt.plot(epochs, val_loss_values, 'r', label=\"Validance loss\")\n",
        "plt.title(\"Training and Vlidance loss\")\n",
        "plt.xlabel(\"epochs\")\n",
        "plt.ylabel(\"loss\")\n",
        "plt.legend()\n",
        "plt.show()"
      ],
      "metadata": {
        "colab": {
          "base_uri": "https://localhost:8080/",
          "height": 295
        },
        "id": "eQ2vIRajaTWW",
        "outputId": "77a58660-2a87-402f-d5e5-8f9833c5dd5e"
      },
      "execution_count": null,
      "outputs": [
        {
          "output_type": "display_data",
          "data": {
            "text/plain": [
              "<Figure size 432x288 with 1 Axes>"
            ],
            "image/png": "[encoded data removed]"
          },
          "metadata": {
            "needs_background": "light"
          }
        }
      ]
    }
  ],
  "metadata": {
    "colab": {
      "provenance": [],
      "authorship_tag": "ABX9TyM1PxdBhKJu+uclGJzOTxQJ",
      "include_colab_link": true
    },
    "kernelspec": {
      "display_name": "Python 3",
      "name": "python3"
    },
    "language_info": {
      "name": "python"
    }
  },
  "nbformat": 4,
  "nbformat_minor": 0
}